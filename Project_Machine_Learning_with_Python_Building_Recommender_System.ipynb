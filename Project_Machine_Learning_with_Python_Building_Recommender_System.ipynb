{
  "nbformat": 4,
  "nbformat_minor": 0,
  "metadata": {
    "colab": {
      "provenance": [],
      "authorship_tag": "ABX9TyOOXcnC4k/LvL7dvOhV0P7Q",
      "include_colab_link": true
    },
    "kernelspec": {
      "name": "python3",
      "display_name": "Python 3"
    },
    "language_info": {
      "name": "python"
    }
  },
  "cells": [
    {
      "cell_type": "markdown",
      "metadata": {
        "id": "view-in-github",
        "colab_type": "text"
      },
      "source": [
        "<a href=\"https://colab.research.google.com/github/riskyandrean104/DQLAB-Course/blob/main/Project_Machine_Learning_with_Python_Building_Recommender_System.ipynb\" target=\"_parent\"><img src=\"https://colab.research.google.com/assets/colab-badge.svg\" alt=\"Open In Colab\"/></a>"
      ]
    },
    {
      "cell_type": "code",
      "execution_count": null,
      "metadata": {
        "id": "vn5xHoMO_8DJ"
      },
      "outputs": [],
      "source": [
        "import pandas as pd\n",
        "import numpy as np\n",
        "pd.set_option('display.max_columns', None)\n",
        "\n",
        "movie_df = pd.read_csv(\"https://storage.googleapis.com/dqlab-dataset/title.basics.tsv\", sep='\\t') #untuk menyimpan title_basics.tsv\n",
        "rating_df = pd.read_csv(\"https://storage.googleapis.com/dqlab-dataset/title.ratings.tsv\", sep = '\\t') #untuk menyimpan title.ratings.tsv"
      ]
    },
    {
      "cell_type": "code",
      "source": [
        "movie_df.head(5)"
      ],
      "metadata": {
        "colab": {
          "base_uri": "https://localhost:8080/",
          "height": 206
        },
        "id": "Yo95iwPCXxF1",
        "outputId": "5aab1052-7f61-4115-9506-d72693c9e4b8"
      },
      "execution_count": null,
      "outputs": [
        {
          "output_type": "execute_result",
          "data": {
            "text/plain": [
              "      tconst  titleType                                      primaryTitle  \\\n",
              "0  tt0221078      short                         Circle Dance, Ute Indians   \n",
              "1  tt8862466  tvEpisode  ¡El #TeamOsos va con todo al \"Reality del amor\"!   \n",
              "2  tt7157720  tvEpisode                                     Episode #3.41   \n",
              "3  tt2974998  tvEpisode                         Episode dated 16 May 1987   \n",
              "4  tt2903620  tvEpisode                  Frances Bavier: Aunt Bee Retires   \n",
              "\n",
              "                                      originalTitle  isAdult startYear  \\\n",
              "0                         Circle Dance, Ute Indians        0      1898   \n",
              "1  ¡El #TeamOsos va con todo al \"Reality del amor\"!        0      2018   \n",
              "2                                     Episode #3.41        0      2016   \n",
              "3                         Episode dated 16 May 1987        0      1987   \n",
              "4                  Frances Bavier: Aunt Bee Retires        0      1973   \n",
              "\n",
              "  endYear runtimeMinutes             genres  \n",
              "0      \\N             \\N  Documentary,Short  \n",
              "1      \\N             \\N       Comedy,Drama  \n",
              "2      \\N             29   Comedy,Game-Show  \n",
              "3      \\N             \\N               News  \n",
              "4      \\N             \\N        Documentary  "
            ],
            "text/html": [
              "\n",
              "  <div id=\"df-382ba39f-e348-4831-8692-2007071b9300\" class=\"colab-df-container\">\n",
              "    <div>\n",
              "<style scoped>\n",
              "    .dataframe tbody tr th:only-of-type {\n",
              "        vertical-align: middle;\n",
              "    }\n",
              "\n",
              "    .dataframe tbody tr th {\n",
              "        vertical-align: top;\n",
              "    }\n",
              "\n",
              "    .dataframe thead th {\n",
              "        text-align: right;\n",
              "    }\n",
              "</style>\n",
              "<table border=\"1\" class=\"dataframe\">\n",
              "  <thead>\n",
              "    <tr style=\"text-align: right;\">\n",
              "      <th></th>\n",
              "      <th>tconst</th>\n",
              "      <th>titleType</th>\n",
              "      <th>primaryTitle</th>\n",
              "      <th>originalTitle</th>\n",
              "      <th>isAdult</th>\n",
              "      <th>startYear</th>\n",
              "      <th>endYear</th>\n",
              "      <th>runtimeMinutes</th>\n",
              "      <th>genres</th>\n",
              "    </tr>\n",
              "  </thead>\n",
              "  <tbody>\n",
              "    <tr>\n",
              "      <th>0</th>\n",
              "      <td>tt0221078</td>\n",
              "      <td>short</td>\n",
              "      <td>Circle Dance, Ute Indians</td>\n",
              "      <td>Circle Dance, Ute Indians</td>\n",
              "      <td>0</td>\n",
              "      <td>1898</td>\n",
              "      <td>\\N</td>\n",
              "      <td>\\N</td>\n",
              "      <td>Documentary,Short</td>\n",
              "    </tr>\n",
              "    <tr>\n",
              "      <th>1</th>\n",
              "      <td>tt8862466</td>\n",
              "      <td>tvEpisode</td>\n",
              "      <td>¡El #TeamOsos va con todo al \"Reality del amor\"!</td>\n",
              "      <td>¡El #TeamOsos va con todo al \"Reality del amor\"!</td>\n",
              "      <td>0</td>\n",
              "      <td>2018</td>\n",
              "      <td>\\N</td>\n",
              "      <td>\\N</td>\n",
              "      <td>Comedy,Drama</td>\n",
              "    </tr>\n",
              "    <tr>\n",
              "      <th>2</th>\n",
              "      <td>tt7157720</td>\n",
              "      <td>tvEpisode</td>\n",
              "      <td>Episode #3.41</td>\n",
              "      <td>Episode #3.41</td>\n",
              "      <td>0</td>\n",
              "      <td>2016</td>\n",
              "      <td>\\N</td>\n",
              "      <td>29</td>\n",
              "      <td>Comedy,Game-Show</td>\n",
              "    </tr>\n",
              "    <tr>\n",
              "      <th>3</th>\n",
              "      <td>tt2974998</td>\n",
              "      <td>tvEpisode</td>\n",
              "      <td>Episode dated 16 May 1987</td>\n",
              "      <td>Episode dated 16 May 1987</td>\n",
              "      <td>0</td>\n",
              "      <td>1987</td>\n",
              "      <td>\\N</td>\n",
              "      <td>\\N</td>\n",
              "      <td>News</td>\n",
              "    </tr>\n",
              "    <tr>\n",
              "      <th>4</th>\n",
              "      <td>tt2903620</td>\n",
              "      <td>tvEpisode</td>\n",
              "      <td>Frances Bavier: Aunt Bee Retires</td>\n",
              "      <td>Frances Bavier: Aunt Bee Retires</td>\n",
              "      <td>0</td>\n",
              "      <td>1973</td>\n",
              "      <td>\\N</td>\n",
              "      <td>\\N</td>\n",
              "      <td>Documentary</td>\n",
              "    </tr>\n",
              "  </tbody>\n",
              "</table>\n",
              "</div>\n",
              "    <div class=\"colab-df-buttons\">\n",
              "\n",
              "  <div class=\"colab-df-container\">\n",
              "    <button class=\"colab-df-convert\" onclick=\"convertToInteractive('df-382ba39f-e348-4831-8692-2007071b9300')\"\n",
              "            title=\"Convert this dataframe to an interactive table.\"\n",
              "            style=\"display:none;\">\n",
              "\n",
              "  <svg xmlns=\"http://www.w3.org/2000/svg\" height=\"24px\" viewBox=\"0 -960 960 960\">\n",
              "    <path d=\"M120-120v-720h720v720H120Zm60-500h600v-160H180v160Zm220 220h160v-160H400v160Zm0 220h160v-160H400v160ZM180-400h160v-160H180v160Zm440 0h160v-160H620v160ZM180-180h160v-160H180v160Zm440 0h160v-160H620v160Z\"/>\n",
              "  </svg>\n",
              "    </button>\n",
              "\n",
              "  <style>\n",
              "    .colab-df-container {\n",
              "      display:flex;\n",
              "      gap: 12px;\n",
              "    }\n",
              "\n",
              "    .colab-df-convert {\n",
              "      background-color: #E8F0FE;\n",
              "      border: none;\n",
              "      border-radius: 50%;\n",
              "      cursor: pointer;\n",
              "      display: none;\n",
              "      fill: #1967D2;\n",
              "      height: 32px;\n",
              "      padding: 0 0 0 0;\n",
              "      width: 32px;\n",
              "    }\n",
              "\n",
              "    .colab-df-convert:hover {\n",
              "      background-color: #E2EBFA;\n",
              "      box-shadow: 0px 1px 2px rgba(60, 64, 67, 0.3), 0px 1px 3px 1px rgba(60, 64, 67, 0.15);\n",
              "      fill: #174EA6;\n",
              "    }\n",
              "\n",
              "    .colab-df-buttons div {\n",
              "      margin-bottom: 4px;\n",
              "    }\n",
              "\n",
              "    [theme=dark] .colab-df-convert {\n",
              "      background-color: #3B4455;\n",
              "      fill: #D2E3FC;\n",
              "    }\n",
              "\n",
              "    [theme=dark] .colab-df-convert:hover {\n",
              "      background-color: #434B5C;\n",
              "      box-shadow: 0px 1px 3px 1px rgba(0, 0, 0, 0.15);\n",
              "      filter: drop-shadow(0px 1px 2px rgba(0, 0, 0, 0.3));\n",
              "      fill: #FFFFFF;\n",
              "    }\n",
              "  </style>\n",
              "\n",
              "    <script>\n",
              "      const buttonEl =\n",
              "        document.querySelector('#df-382ba39f-e348-4831-8692-2007071b9300 button.colab-df-convert');\n",
              "      buttonEl.style.display =\n",
              "        google.colab.kernel.accessAllowed ? 'block' : 'none';\n",
              "\n",
              "      async function convertToInteractive(key) {\n",
              "        const element = document.querySelector('#df-382ba39f-e348-4831-8692-2007071b9300');\n",
              "        const dataTable =\n",
              "          await google.colab.kernel.invokeFunction('convertToInteractive',\n",
              "                                                    [key], {});\n",
              "        if (!dataTable) return;\n",
              "\n",
              "        const docLinkHtml = 'Like what you see? Visit the ' +\n",
              "          '<a target=\"_blank\" href=https://colab.research.google.com/notebooks/data_table.ipynb>data table notebook</a>'\n",
              "          + ' to learn more about interactive tables.';\n",
              "        element.innerHTML = '';\n",
              "        dataTable['output_type'] = 'display_data';\n",
              "        await google.colab.output.renderOutput(dataTable, element);\n",
              "        const docLink = document.createElement('div');\n",
              "        docLink.innerHTML = docLinkHtml;\n",
              "        element.appendChild(docLink);\n",
              "      }\n",
              "    </script>\n",
              "  </div>\n",
              "\n",
              "\n",
              "<div id=\"df-491be877-72dd-42c3-a275-77bc43f07f09\">\n",
              "  <button class=\"colab-df-quickchart\" onclick=\"quickchart('df-491be877-72dd-42c3-a275-77bc43f07f09')\"\n",
              "            title=\"Suggest charts.\"\n",
              "            style=\"display:none;\">\n",
              "\n",
              "<svg xmlns=\"http://www.w3.org/2000/svg\" height=\"24px\"viewBox=\"0 0 24 24\"\n",
              "     width=\"24px\">\n",
              "    <g>\n",
              "        <path d=\"M19 3H5c-1.1 0-2 .9-2 2v14c0 1.1.9 2 2 2h14c1.1 0 2-.9 2-2V5c0-1.1-.9-2-2-2zM9 17H7v-7h2v7zm4 0h-2V7h2v10zm4 0h-2v-4h2v4z\"/>\n",
              "    </g>\n",
              "</svg>\n",
              "  </button>\n",
              "\n",
              "<style>\n",
              "  .colab-df-quickchart {\n",
              "    background-color: #E8F0FE;\n",
              "    border: none;\n",
              "    border-radius: 50%;\n",
              "    cursor: pointer;\n",
              "    display: none;\n",
              "    fill: #1967D2;\n",
              "    height: 32px;\n",
              "    padding: 0 0 0 0;\n",
              "    width: 32px;\n",
              "  }\n",
              "\n",
              "  .colab-df-quickchart:hover {\n",
              "    background-color: #E2EBFA;\n",
              "    box-shadow: 0px 1px 2px rgba(60, 64, 67, 0.3), 0px 1px 3px 1px rgba(60, 64, 67, 0.15);\n",
              "    fill: #174EA6;\n",
              "  }\n",
              "\n",
              "  [theme=dark] .colab-df-quickchart {\n",
              "    background-color: #3B4455;\n",
              "    fill: #D2E3FC;\n",
              "  }\n",
              "\n",
              "  [theme=dark] .colab-df-quickchart:hover {\n",
              "    background-color: #434B5C;\n",
              "    box-shadow: 0px 1px 3px 1px rgba(0, 0, 0, 0.15);\n",
              "    filter: drop-shadow(0px 1px 2px rgba(0, 0, 0, 0.3));\n",
              "    fill: #FFFFFF;\n",
              "  }\n",
              "</style>\n",
              "\n",
              "  <script>\n",
              "    async function quickchart(key) {\n",
              "      const charts = await google.colab.kernel.invokeFunction(\n",
              "          'suggestCharts', [key], {});\n",
              "    }\n",
              "    (() => {\n",
              "      let quickchartButtonEl =\n",
              "        document.querySelector('#df-491be877-72dd-42c3-a275-77bc43f07f09 button');\n",
              "      quickchartButtonEl.style.display =\n",
              "        google.colab.kernel.accessAllowed ? 'block' : 'none';\n",
              "    })();\n",
              "  </script>\n",
              "</div>\n",
              "    </div>\n",
              "  </div>\n"
            ]
          },
          "metadata": {},
          "execution_count": 2
        }
      ]
    },
    {
      "cell_type": "code",
      "source": [
        "movie_df.info()"
      ],
      "metadata": {
        "colab": {
          "base_uri": "https://localhost:8080/"
        },
        "id": "OMsiy92F_9jV",
        "outputId": "6ea8f44e-dded-4464-8b05-a6111c36a129"
      },
      "execution_count": null,
      "outputs": [
        {
          "output_type": "stream",
          "name": "stdout",
          "text": [
            "<class 'pandas.core.frame.DataFrame'>\n",
            "RangeIndex: 9025 entries, 0 to 9024\n",
            "Data columns (total 9 columns):\n",
            " #   Column          Non-Null Count  Dtype \n",
            "---  ------          --------------  ----- \n",
            " 0   tconst          9025 non-null   object\n",
            " 1   titleType       9025 non-null   object\n",
            " 2   primaryTitle    9011 non-null   object\n",
            " 3   originalTitle   9011 non-null   object\n",
            " 4   isAdult         9025 non-null   int64 \n",
            " 5   startYear       9025 non-null   object\n",
            " 6   endYear         9025 non-null   object\n",
            " 7   runtimeMinutes  9025 non-null   object\n",
            " 8   genres          9014 non-null   object\n",
            "dtypes: int64(1), object(8)\n",
            "memory usage: 634.7+ KB\n"
          ]
        }
      ]
    },
    {
      "cell_type": "code",
      "source": [
        "movie_df.isnull().sum()"
      ],
      "metadata": {
        "colab": {
          "base_uri": "https://localhost:8080/"
        },
        "id": "nMoOnUIfANxk",
        "outputId": "4aa73eda-398a-4b75-c171-9b68758815d1"
      },
      "execution_count": null,
      "outputs": [
        {
          "output_type": "execute_result",
          "data": {
            "text/plain": [
              "tconst             0\n",
              "titleType          0\n",
              "primaryTitle      14\n",
              "originalTitle     14\n",
              "isAdult            0\n",
              "startYear          0\n",
              "endYear            0\n",
              "runtimeMinutes     0\n",
              "genres            11\n",
              "dtype: int64"
            ]
          },
          "metadata": {},
          "execution_count": 4
        }
      ]
    },
    {
      "cell_type": "code",
      "source": [
        "print(movie_df.loc[(movie_df['primaryTitle'].isnull()) & (movie_df['originalTitle']).isnull()])"
      ],
      "metadata": {
        "colab": {
          "base_uri": "https://localhost:8080/"
        },
        "id": "C2NvdTs4ARdm",
        "outputId": "318ec788-2930-4df8-b81e-7c1870f2b8fb"
      },
      "execution_count": null,
      "outputs": [
        {
          "output_type": "stream",
          "name": "stdout",
          "text": [
            "          tconst  titleType primaryTitle originalTitle  isAdult startYear  \\\n",
            "9000  tt10790040  tvEpisode          NaN           NaN        0      2019   \n",
            "9001  tt10891902  tvEpisode          NaN           NaN        0      2020   \n",
            "9002  tt11737860  tvEpisode          NaN           NaN        0      2020   \n",
            "9003  tt11737862  tvEpisode          NaN           NaN        0      2020   \n",
            "9004  tt11737866  tvEpisode          NaN           NaN        0      2020   \n",
            "9005  tt11737872  tvEpisode          NaN           NaN        0      2020   \n",
            "9006  tt11737874  tvEpisode          NaN           NaN        0      2020   \n",
            "9007   tt1971246  tvEpisode          NaN           NaN        0      2011   \n",
            "9008   tt2067043  tvEpisode          NaN           NaN        0      1965   \n",
            "9009   tt4404732  tvEpisode          NaN           NaN        0      2015   \n",
            "9010   tt5773048  tvEpisode          NaN           NaN        0      2015   \n",
            "9011   tt8473688  tvEpisode          NaN           NaN        0      1987   \n",
            "9012   tt8541336  tvEpisode          NaN           NaN        0      2018   \n",
            "9013   tt9824302  tvEpisode          NaN           NaN        0      2016   \n",
            "\n",
            "     endYear runtimeMinutes                genres  \n",
            "9000      \\N             \\N                    \\N  \n",
            "9001      \\N             \\N                 Crime  \n",
            "9002      \\N             \\N  Comedy,Drama,Romance  \n",
            "9003      \\N             \\N  Comedy,Drama,Romance  \n",
            "9004      \\N             \\N  Comedy,Drama,Romance  \n",
            "9005      \\N             \\N                    \\N  \n",
            "9006      \\N             \\N  Comedy,Drama,Romance  \n",
            "9007      \\N             \\N             Biography  \n",
            "9008      \\N             \\N                 Music  \n",
            "9009      \\N             \\N                Comedy  \n",
            "9010      \\N             \\N             Talk-Show  \n",
            "9011      \\N             \\N                 Drama  \n",
            "9012      \\N             \\N    Reality-TV,Romance  \n",
            "9013      \\N             \\N           Documentary  \n"
          ]
        }
      ]
    },
    {
      "cell_type": "code",
      "source": [
        "#mengupdate movie_df dengan membuang data-data bernilai NULL\n",
        "movie_df = movie_df.loc[(movie_df['primaryTitle'].notnull() | (movie_df['originalTitle']).notnull())]\n",
        "\n",
        "#menampilkan jumlah data setelah data dengan nilai NULL dibuang\n",
        "print(len(movie_df))"
      ],
      "metadata": {
        "colab": {
          "base_uri": "https://localhost:8080/"
        },
        "id": "_5U1F0JnD6Xi",
        "outputId": "81739ccf-1198-493f-e7f2-4bb348c6f667"
      },
      "execution_count": null,
      "outputs": [
        {
          "output_type": "stream",
          "name": "stdout",
          "text": [
            "9011\n"
          ]
        }
      ]
    },
    {
      "cell_type": "code",
      "source": [
        "movie_df.isnull().sum()"
      ],
      "metadata": {
        "colab": {
          "base_uri": "https://localhost:8080/"
        },
        "id": "1IkepyUuIao2",
        "outputId": "f697cf3b-9937-47b2-c21a-9e568a0585c0"
      },
      "execution_count": null,
      "outputs": [
        {
          "output_type": "execute_result",
          "data": {
            "text/plain": [
              "tconst             0\n",
              "titleType          0\n",
              "primaryTitle       0\n",
              "originalTitle      0\n",
              "isAdult            0\n",
              "startYear          0\n",
              "endYear            0\n",
              "runtimeMinutes     0\n",
              "genres            11\n",
              "dtype: int64"
            ]
          },
          "metadata": {},
          "execution_count": 7
        }
      ]
    },
    {
      "cell_type": "code",
      "source": [
        "print(movie_df.loc[movie_df['genres'].isnull()])"
      ],
      "metadata": {
        "colab": {
          "base_uri": "https://localhost:8080/"
        },
        "id": "OGwN26p7K78V",
        "outputId": "584a3c97-1b79-4fab-ddd4-f3bfce276cb4"
      },
      "execution_count": null,
      "outputs": [
        {
          "output_type": "stream",
          "name": "stdout",
          "text": [
            "          tconst  titleType  \\\n",
            "9014  tt10233364  tvEpisode   \n",
            "9015  tt10925142  tvEpisode   \n",
            "9016  tt10970874  tvEpisode   \n",
            "9017  tt11670006  tvEpisode   \n",
            "9018  tt11868642  tvEpisode   \n",
            "9019   tt2347742  tvEpisode   \n",
            "9020   tt3984412  tvEpisode   \n",
            "9021   tt8740950  tvEpisode   \n",
            "9022   tt9822816  tvEpisode   \n",
            "9023   tt9900062  tvEpisode   \n",
            "9024   tt9909210  tvEpisode   \n",
            "\n",
            "                                           primaryTitle originalTitle  \\\n",
            "9014  Rolling in the Deep Dish\\tRolling in the Deep ...             0   \n",
            "9015  The IMDb Show on Location: Star Wars Galaxy's ...             0   \n",
            "9016  Die Bauhaus-Stadt Tel Aviv - Vorbild für die M...             0   \n",
            "9017  ...ein angenehmer Unbequemer...\\t...ein angene...             0   \n",
            "9018  GGN Heavyweight Championship Lungs With Mike T...             0   \n",
            "9019  No sufras por la alergia esta primavera\\tNo su...             0   \n",
            "9020  I'm Not Going to Come Last, I'm Just Going to ...             0   \n",
            "9021  Weight Loss Resolution Restart - Ins & Outs of...             0   \n",
            "9022  Zwischen Vertuschung und Aufklärung - Missbrau...             0   \n",
            "9023  The Direction of Yuu's Love: Hings Aren't Goin...             0   \n",
            "9024  Politik und/oder Moral - Wie weit geht das Ver...             0   \n",
            "\n",
            "      isAdult startYear endYear          runtimeMinutes genres  \n",
            "9014     2019        \\N      \\N              Reality-TV    NaN  \n",
            "9015     2019        \\N      \\N               Talk-Show    NaN  \n",
            "9016     2019        \\N      \\N                      \\N    NaN  \n",
            "9017     1981        \\N      \\N             Documentary    NaN  \n",
            "9018     2020        \\N      \\N               Talk-Show    NaN  \n",
            "9019     2004        \\N      \\N                      \\N    NaN  \n",
            "9020     2014        \\N      \\N              Reality-TV    NaN  \n",
            "9021     2015        \\N      \\N              Reality-TV    NaN  \n",
            "9022     2019        \\N      \\N                      \\N    NaN  \n",
            "9023     1994        \\N      \\N  Animation,Comedy,Drama    NaN  \n",
            "9024     2005        \\N      \\N                      \\N    NaN  \n"
          ]
        }
      ]
    },
    {
      "cell_type": "code",
      "source": [
        "movie_df = movie_df.loc[movie_df['genres'].notnull()]"
      ],
      "metadata": {
        "id": "P8yjhEtSNg6h"
      },
      "execution_count": null,
      "outputs": []
    },
    {
      "cell_type": "code",
      "source": [
        "movie_df.isnull().sum()"
      ],
      "metadata": {
        "colab": {
          "base_uri": "https://localhost:8080/"
        },
        "id": "-6WmDNL6K8Kn",
        "outputId": "db273d2e-51dc-4edb-dda5-3e3b5cf9f372"
      },
      "execution_count": null,
      "outputs": [
        {
          "output_type": "execute_result",
          "data": {
            "text/plain": [
              "tconst            0\n",
              "titleType         0\n",
              "primaryTitle      0\n",
              "originalTitle     0\n",
              "isAdult           0\n",
              "startYear         0\n",
              "endYear           0\n",
              "runtimeMinutes    0\n",
              "genres            0\n",
              "dtype: int64"
            ]
          },
          "metadata": {},
          "execution_count": 10
        }
      ]
    },
    {
      "cell_type": "code",
      "source": [
        "#mengubah nilai '\\\\N' pada startYear menjadi np.nan dan cast kolomnya menjadi float64\n",
        "movie_df['startYear'] = movie_df['startYear'].replace('\\\\N', np.nan)\n",
        "movie_df['startYear'] = movie_df['startYear'].astype('float64')\n",
        "print(movie_df['startYear'].unique()[:5])\n",
        "\n",
        "#mengubah nilai '\\\\N' pada endYear menjadi np.nan dan cast kolomnya menjadi float64\n",
        "movie_df['endYear'] = movie_df['endYear'].replace('\\\\N', np.nan)\n",
        "movie_df['endYear'] = movie_df['endYear'].astype('float64')\n",
        "print(movie_df['endYear'].unique()[:5])\n",
        "\n",
        "#mengubah nilai '\\\\N' pada runtimeMinutes menjadi np.nan dan cast kolomnya menjadi float64\n",
        "movie_df['runtimeMinutes'] = movie_df['runtimeMinutes'].replace('\\\\N', np.nan)\n",
        "movie_df['runtimeMinutes'] = movie_df['runtimeMinutes'].astype('float64')\n",
        "print(movie_df['runtimeMinutes'].unique()[:5])"
      ],
      "metadata": {
        "colab": {
          "base_uri": "https://localhost:8080/"
        },
        "id": "VuCiMOlMNhbb",
        "outputId": "ddfd8ec2-00e8-42a4-d318-272b72caef7d"
      },
      "execution_count": null,
      "outputs": [
        {
          "output_type": "stream",
          "name": "stdout",
          "text": [
            "[1898. 2018. 2016. 1987. 1973.]\n",
            "[  nan 2005. 1955. 2006. 1999.]\n",
            "[nan 29.  7. 23. 85.]\n"
          ]
        },
        {
          "output_type": "stream",
          "name": "stderr",
          "text": [
            "<ipython-input-11-579f89e9134d>:2: SettingWithCopyWarning: \n",
            "A value is trying to be set on a copy of a slice from a DataFrame.\n",
            "Try using .loc[row_indexer,col_indexer] = value instead\n",
            "\n",
            "See the caveats in the documentation: https://pandas.pydata.org/pandas-docs/stable/user_guide/indexing.html#returning-a-view-versus-a-copy\n",
            "  movie_df['startYear'] = movie_df['startYear'].replace('\\\\N', np.nan)\n",
            "<ipython-input-11-579f89e9134d>:3: SettingWithCopyWarning: \n",
            "A value is trying to be set on a copy of a slice from a DataFrame.\n",
            "Try using .loc[row_indexer,col_indexer] = value instead\n",
            "\n",
            "See the caveats in the documentation: https://pandas.pydata.org/pandas-docs/stable/user_guide/indexing.html#returning-a-view-versus-a-copy\n",
            "  movie_df['startYear'] = movie_df['startYear'].astype('float64')\n",
            "<ipython-input-11-579f89e9134d>:7: SettingWithCopyWarning: \n",
            "A value is trying to be set on a copy of a slice from a DataFrame.\n",
            "Try using .loc[row_indexer,col_indexer] = value instead\n",
            "\n",
            "See the caveats in the documentation: https://pandas.pydata.org/pandas-docs/stable/user_guide/indexing.html#returning-a-view-versus-a-copy\n",
            "  movie_df['endYear'] = movie_df['endYear'].replace('\\\\N', np.nan)\n",
            "<ipython-input-11-579f89e9134d>:8: SettingWithCopyWarning: \n",
            "A value is trying to be set on a copy of a slice from a DataFrame.\n",
            "Try using .loc[row_indexer,col_indexer] = value instead\n",
            "\n",
            "See the caveats in the documentation: https://pandas.pydata.org/pandas-docs/stable/user_guide/indexing.html#returning-a-view-versus-a-copy\n",
            "  movie_df['endYear'] = movie_df['endYear'].astype('float64')\n"
          ]
        }
      ]
    },
    {
      "cell_type": "code",
      "source": [
        "def transform_to_list(x):\n",
        "    if ',' in x:\n",
        "    #ubah menjadi list apabila ada data pada kolom genre\n",
        "        return x.split(',')\n",
        "    else:\n",
        "    #jika tidak ada data, ubah menjadi list kosong\n",
        "        return []\n",
        "\n",
        "movie_df['genres'] = movie_df['genres'].apply(lambda x: transform_to_list(x))"
      ],
      "metadata": {
        "id": "UrSDXZOiN8d1"
      },
      "execution_count": null,
      "outputs": []
    },
    {
      "cell_type": "code",
      "source": [
        "movie_df['genres']"
      ],
      "metadata": {
        "colab": {
          "base_uri": "https://localhost:8080/"
        },
        "id": "EmjqmwqcXBmS",
        "outputId": "6a3967d8-a67e-416a-8cbe-eaf5537058ed"
      },
      "execution_count": null,
      "outputs": [
        {
          "output_type": "execute_result",
          "data": {
            "text/plain": [
              "0       [Documentary, Short]\n",
              "1            [Comedy, Drama]\n",
              "2        [Comedy, Game-Show]\n",
              "3                         []\n",
              "4                         []\n",
              "                ...         \n",
              "8995                      []\n",
              "8996                      []\n",
              "8997                      []\n",
              "8998                      []\n",
              "8999         [Horror, Short]\n",
              "Name: genres, Length: 9000, dtype: object"
            ]
          },
          "metadata": {},
          "execution_count": 13
        }
      ]
    },
    {
      "cell_type": "code",
      "source": [
        "print(rating_df.head())"
      ],
      "metadata": {
        "colab": {
          "base_uri": "https://localhost:8080/"
        },
        "id": "tCZiV3vDXl-B",
        "outputId": "c0658022-9060-4bb5-de36-3a2f8f509038"
      },
      "execution_count": null,
      "outputs": [
        {
          "output_type": "stream",
          "name": "stdout",
          "text": [
            "      tconst  averageRating  numVotes\n",
            "0  tt0000001            5.6      1608\n",
            "1  tt0000002            6.0       197\n",
            "2  tt0000003            6.5      1285\n",
            "3  tt0000004            6.1       121\n",
            "4  tt0000005            6.1      2050\n"
          ]
        }
      ]
    },
    {
      "cell_type": "code",
      "source": [
        "print(rating_df.info())"
      ],
      "metadata": {
        "colab": {
          "base_uri": "https://localhost:8080/"
        },
        "id": "Ll-zr10xYShX",
        "outputId": "7be2862f-f544-4438-c705-071e44955220"
      },
      "execution_count": null,
      "outputs": [
        {
          "output_type": "stream",
          "name": "stdout",
          "text": [
            "<class 'pandas.core.frame.DataFrame'>\n",
            "RangeIndex: 1030009 entries, 0 to 1030008\n",
            "Data columns (total 3 columns):\n",
            " #   Column         Non-Null Count    Dtype  \n",
            "---  ------         --------------    -----  \n",
            " 0   tconst         1030009 non-null  object \n",
            " 1   averageRating  1030009 non-null  float64\n",
            " 2   numVotes       1030009 non-null  int64  \n",
            "dtypes: float64(1), int64(1), object(1)\n",
            "memory usage: 23.6+ MB\n",
            "None\n"
          ]
        }
      ]
    },
    {
      "cell_type": "code",
      "source": [
        "#Lakukan join pada kedua table\n",
        "movie_rating_df = pd.merge(rating_df, movie_df, on='tconst', how='inner')\n",
        "\n",
        "#Tampilkan 5 data teratas\n",
        "print(movie_rating_df.head())\n",
        "\n",
        "#Tampilkan tipe data dari tiap kolom\n",
        "print(movie_rating_df.info())"
      ],
      "metadata": {
        "colab": {
          "base_uri": "https://localhost:8080/"
        },
        "id": "t8GWZNpVYSvs",
        "outputId": "fe3a1b4f-b411-4273-bb50-e5d7fffcfa94"
      },
      "execution_count": null,
      "outputs": [
        {
          "output_type": "stream",
          "name": "stdout",
          "text": [
            "      tconst  averageRating  numVotes titleType  \\\n",
            "0  tt0003471            6.0       540     movie   \n",
            "1  tt0007005            5.3        14     movie   \n",
            "2  tt0007136            6.1        49     short   \n",
            "3  tt0010947            7.0        25     movie   \n",
            "4  tt0013930            5.9        29     movie   \n",
            "\n",
            "                     primaryTitle           originalTitle  isAdult  startYear  \\\n",
            "0                Traffic in Souls        Traffic in Souls        0     1913.0   \n",
            "1  The Strength of the Fatherland     A magyar föld ereje        0     1917.0   \n",
            "2            Nugget Jim's Pardner    Nugget Jim's Pardner        0     1916.0   \n",
            "3       Evening - Night - Morning  Abend - Nacht - Morgen        0     1920.0   \n",
            "4                  A Clouded Name          A Clouded Name        0     1923.0   \n",
            "\n",
            "   endYear  runtimeMinutes            genres  \n",
            "0      NaN            88.0    [Crime, Drama]  \n",
            "1      NaN             NaN      [Drama, War]  \n",
            "2      NaN            23.0  [Short, Western]  \n",
            "3      NaN            50.0                []  \n",
            "4      NaN            52.0                []  \n",
            "<class 'pandas.core.frame.DataFrame'>\n",
            "Int64Index: 1376 entries, 0 to 1375\n",
            "Data columns (total 11 columns):\n",
            " #   Column          Non-Null Count  Dtype  \n",
            "---  ------          --------------  -----  \n",
            " 0   tconst          1376 non-null   object \n",
            " 1   averageRating   1376 non-null   float64\n",
            " 2   numVotes        1376 non-null   int64  \n",
            " 3   titleType       1376 non-null   object \n",
            " 4   primaryTitle    1376 non-null   object \n",
            " 5   originalTitle   1376 non-null   object \n",
            " 6   isAdult         1376 non-null   int64  \n",
            " 7   startYear       1376 non-null   float64\n",
            " 8   endYear         26 non-null     float64\n",
            " 9   runtimeMinutes  1004 non-null   float64\n",
            " 10  genres          1376 non-null   object \n",
            "dtypes: float64(4), int64(2), object(5)\n",
            "memory usage: 129.0+ KB\n",
            "None\n"
          ]
        }
      ]
    },
    {
      "cell_type": "code",
      "source": [
        "movie_rating_df = movie_rating_df.dropna(subset=['startYear','runtimeMinutes'])\n",
        "\n",
        "#Untuk memastikan bahwa sudah tidak ada lagi nilai NULL\n",
        "print(movie_rating_df.info())"
      ],
      "metadata": {
        "colab": {
          "base_uri": "https://localhost:8080/"
        },
        "id": "9Nc_gJwpYax3",
        "outputId": "3e3fcb52-6631-45f3-b5ce-55e1a2168cdf"
      },
      "execution_count": null,
      "outputs": [
        {
          "output_type": "stream",
          "name": "stdout",
          "text": [
            "<class 'pandas.core.frame.DataFrame'>\n",
            "Int64Index: 1004 entries, 0 to 1375\n",
            "Data columns (total 11 columns):\n",
            " #   Column          Non-Null Count  Dtype  \n",
            "---  ------          --------------  -----  \n",
            " 0   tconst          1004 non-null   object \n",
            " 1   averageRating   1004 non-null   float64\n",
            " 2   numVotes        1004 non-null   int64  \n",
            " 3   titleType       1004 non-null   object \n",
            " 4   primaryTitle    1004 non-null   object \n",
            " 5   originalTitle   1004 non-null   object \n",
            " 6   isAdult         1004 non-null   int64  \n",
            " 7   startYear       1004 non-null   float64\n",
            " 8   endYear         17 non-null     float64\n",
            " 9   runtimeMinutes  1004 non-null   float64\n",
            " 10  genres          1004 non-null   object \n",
            "dtypes: float64(4), int64(2), object(5)\n",
            "memory usage: 94.1+ KB\n",
            "None\n"
          ]
        }
      ]
    },
    {
      "cell_type": "code",
      "source": [
        "C = movie_rating_df['averageRating'].mean()\n",
        "print(C)"
      ],
      "metadata": {
        "colab": {
          "base_uri": "https://localhost:8080/"
        },
        "id": "PHSPZIp-dSC8",
        "outputId": "dc7b82e3-4414-444f-dd12-3f7b3e337ba0"
      },
      "execution_count": null,
      "outputs": [
        {
          "output_type": "stream",
          "name": "stdout",
          "text": [
            "6.829581673306772\n"
          ]
        }
      ]
    },
    {
      "cell_type": "code",
      "source": [
        "m = movie_rating_df['numVotes'].quantile(0.8)\n",
        "print(m)"
      ],
      "metadata": {
        "colab": {
          "base_uri": "https://localhost:8080/"
        },
        "id": "ba2Dd6PEdeZW",
        "outputId": "f0cd2728-9914-4b00-de45-380407b88a2b"
      },
      "execution_count": null,
      "outputs": [
        {
          "output_type": "stream",
          "name": "stdout",
          "text": [
            "229.0\n"
          ]
        }
      ]
    },
    {
      "cell_type": "code",
      "source": [],
      "metadata": {
        "id": "SHorbFgXdmVG"
      },
      "execution_count": null,
      "outputs": []
    }
  ]
}