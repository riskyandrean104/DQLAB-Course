{
  "nbformat": 4,
  "nbformat_minor": 0,
  "metadata": {
    "colab": {
      "provenance": [],
      "authorship_tag": "ABX9TyOnhsEXS4NcduJL0uFh2Qyt",
      "include_colab_link": true
    },
    "kernelspec": {
      "name": "python3",
      "display_name": "Python 3"
    },
    "language_info": {
      "name": "python"
    }
  },
  "cells": [
    {
      "cell_type": "markdown",
      "metadata": {
        "id": "view-in-github",
        "colab_type": "text"
      },
      "source": [
        "<a href=\"https://colab.research.google.com/github/riskyandrean104/DQLAB-Course/blob/main/Project_Machine_Learning_with_Python_Building_Recommender_System_with_Similarity_Function.ipynb\" target=\"_parent\"><img src=\"https://colab.research.google.com/assets/colab-badge.svg\" alt=\"Open In Colab\"/></a>"
      ]
    },
    {
      "cell_type": "code",
      "execution_count": null,
      "metadata": {
        "id": "hVKPyGPjp-fZ"
      },
      "outputs": [],
      "source": [
        "import pandas as pd\n",
        "import numpy as np\n",
        "\n",
        "pd.set_option('display.max_columns', None)\n",
        "name_df = pd.read_csv('https://storage.googleapis.com/dqlab-dataset/actor_name.csv')\n",
        "\n",
        "movie_rating_df = pd.read_csv('https://storage.googleapis.com/dqlab-dataset/movie_rating_df.csv')\n",
        "\n",
        "director_writers = pd.read_csv('https://storage.googleapis.com/dqlab-dataset/directors_writers.csv')"
      ]
    },
    {
      "cell_type": "code",
      "source": [
        "name_df.info()"
      ],
      "metadata": {
        "colab": {
          "base_uri": "https://localhost:8080/"
        },
        "id": "DMUKJGCuqZlc",
        "outputId": "58c6e32a-d0ef-4619-f6ed-c50fdaadd1f0"
      },
      "execution_count": null,
      "outputs": [
        {
          "output_type": "stream",
          "name": "stdout",
          "text": [
            "<class 'pandas.core.frame.DataFrame'>\n",
            "RangeIndex: 1000 entries, 0 to 999\n",
            "Data columns (total 6 columns):\n",
            " #   Column             Non-Null Count  Dtype \n",
            "---  ------             --------------  ----- \n",
            " 0   nconst             1000 non-null   object\n",
            " 1   primaryName        1000 non-null   object\n",
            " 2   birthYear          1000 non-null   object\n",
            " 3   deathYear          1000 non-null   object\n",
            " 4   primaryProfession  891 non-null    object\n",
            " 5   knownForTitles     1000 non-null   object\n",
            "dtypes: object(6)\n",
            "memory usage: 47.0+ KB\n"
          ]
        }
      ]
    },
    {
      "cell_type": "code",
      "source": [
        "name_df.head()"
      ],
      "metadata": {
        "colab": {
          "base_uri": "https://localhost:8080/",
          "height": 206
        },
        "id": "ZLa1SHZvqcuy",
        "outputId": "d5ac3d7c-bc41-412c-a9bb-91515758d2db"
      },
      "execution_count": null,
      "outputs": [
        {
          "output_type": "execute_result",
          "data": {
            "text/plain": [
              "       nconst          primaryName birthYear deathYear  \\\n",
              "0   nm1774132    Nathan McLaughlin      1973        \\N   \n",
              "1  nm10683464        Bridge Andrew        \\N        \\N   \n",
              "2   nm1021485    Brandon Fransvaag        \\N        \\N   \n",
              "3   nm6940929   Erwin van der Lely        \\N        \\N   \n",
              "4   nm5764974  Svetlana Shypitsyna        \\N        \\N   \n",
              "\n",
              "                    primaryProfession                           knownForTitles  \n",
              "0  special_effects,make_up_department  tt0417686,tt1713976,tt1891860,tt0454839  \n",
              "1                               actor                                tt7718088  \n",
              "2                       miscellaneous                                tt0168790  \n",
              "3                       miscellaneous                                tt4232168  \n",
              "4                             actress                                tt3014168  "
            ],
            "text/html": [
              "\n",
              "\n",
              "  <div id=\"df-a1693d70-b77a-4f83-990a-f2ff727a4393\">\n",
              "    <div class=\"colab-df-container\">\n",
              "      <div>\n",
              "<style scoped>\n",
              "    .dataframe tbody tr th:only-of-type {\n",
              "        vertical-align: middle;\n",
              "    }\n",
              "\n",
              "    .dataframe tbody tr th {\n",
              "        vertical-align: top;\n",
              "    }\n",
              "\n",
              "    .dataframe thead th {\n",
              "        text-align: right;\n",
              "    }\n",
              "</style>\n",
              "<table border=\"1\" class=\"dataframe\">\n",
              "  <thead>\n",
              "    <tr style=\"text-align: right;\">\n",
              "      <th></th>\n",
              "      <th>nconst</th>\n",
              "      <th>primaryName</th>\n",
              "      <th>birthYear</th>\n",
              "      <th>deathYear</th>\n",
              "      <th>primaryProfession</th>\n",
              "      <th>knownForTitles</th>\n",
              "    </tr>\n",
              "  </thead>\n",
              "  <tbody>\n",
              "    <tr>\n",
              "      <th>0</th>\n",
              "      <td>nm1774132</td>\n",
              "      <td>Nathan McLaughlin</td>\n",
              "      <td>1973</td>\n",
              "      <td>\\N</td>\n",
              "      <td>special_effects,make_up_department</td>\n",
              "      <td>tt0417686,tt1713976,tt1891860,tt0454839</td>\n",
              "    </tr>\n",
              "    <tr>\n",
              "      <th>1</th>\n",
              "      <td>nm10683464</td>\n",
              "      <td>Bridge Andrew</td>\n",
              "      <td>\\N</td>\n",
              "      <td>\\N</td>\n",
              "      <td>actor</td>\n",
              "      <td>tt7718088</td>\n",
              "    </tr>\n",
              "    <tr>\n",
              "      <th>2</th>\n",
              "      <td>nm1021485</td>\n",
              "      <td>Brandon Fransvaag</td>\n",
              "      <td>\\N</td>\n",
              "      <td>\\N</td>\n",
              "      <td>miscellaneous</td>\n",
              "      <td>tt0168790</td>\n",
              "    </tr>\n",
              "    <tr>\n",
              "      <th>3</th>\n",
              "      <td>nm6940929</td>\n",
              "      <td>Erwin van der Lely</td>\n",
              "      <td>\\N</td>\n",
              "      <td>\\N</td>\n",
              "      <td>miscellaneous</td>\n",
              "      <td>tt4232168</td>\n",
              "    </tr>\n",
              "    <tr>\n",
              "      <th>4</th>\n",
              "      <td>nm5764974</td>\n",
              "      <td>Svetlana Shypitsyna</td>\n",
              "      <td>\\N</td>\n",
              "      <td>\\N</td>\n",
              "      <td>actress</td>\n",
              "      <td>tt3014168</td>\n",
              "    </tr>\n",
              "  </tbody>\n",
              "</table>\n",
              "</div>\n",
              "      <button class=\"colab-df-convert\" onclick=\"convertToInteractive('df-a1693d70-b77a-4f83-990a-f2ff727a4393')\"\n",
              "              title=\"Convert this dataframe to an interactive table.\"\n",
              "              style=\"display:none;\">\n",
              "\n",
              "  <svg xmlns=\"http://www.w3.org/2000/svg\" height=\"24px\"viewBox=\"0 0 24 24\"\n",
              "       width=\"24px\">\n",
              "    <path d=\"M0 0h24v24H0V0z\" fill=\"none\"/>\n",
              "    <path d=\"M18.56 5.44l.94 2.06.94-2.06 2.06-.94-2.06-.94-.94-2.06-.94 2.06-2.06.94zm-11 1L8.5 8.5l.94-2.06 2.06-.94-2.06-.94L8.5 2.5l-.94 2.06-2.06.94zm10 10l.94 2.06.94-2.06 2.06-.94-2.06-.94-.94-2.06-.94 2.06-2.06.94z\"/><path d=\"M17.41 7.96l-1.37-1.37c-.4-.4-.92-.59-1.43-.59-.52 0-1.04.2-1.43.59L10.3 9.45l-7.72 7.72c-.78.78-.78 2.05 0 2.83L4 21.41c.39.39.9.59 1.41.59.51 0 1.02-.2 1.41-.59l7.78-7.78 2.81-2.81c.8-.78.8-2.07 0-2.86zM5.41 20L4 18.59l7.72-7.72 1.47 1.35L5.41 20z\"/>\n",
              "  </svg>\n",
              "      </button>\n",
              "\n",
              "\n",
              "\n",
              "    <div id=\"df-58f30503-43fe-4b04-93bb-d1706b2ca1f2\">\n",
              "      <button class=\"colab-df-quickchart\" onclick=\"quickchart('df-58f30503-43fe-4b04-93bb-d1706b2ca1f2')\"\n",
              "              title=\"Suggest charts.\"\n",
              "              style=\"display:none;\">\n",
              "\n",
              "<svg xmlns=\"http://www.w3.org/2000/svg\" height=\"24px\"viewBox=\"0 0 24 24\"\n",
              "     width=\"24px\">\n",
              "    <g>\n",
              "        <path d=\"M19 3H5c-1.1 0-2 .9-2 2v14c0 1.1.9 2 2 2h14c1.1 0 2-.9 2-2V5c0-1.1-.9-2-2-2zM9 17H7v-7h2v7zm4 0h-2V7h2v10zm4 0h-2v-4h2v4z\"/>\n",
              "    </g>\n",
              "</svg>\n",
              "      </button>\n",
              "    </div>\n",
              "\n",
              "<style>\n",
              "  .colab-df-quickchart {\n",
              "    background-color: #E8F0FE;\n",
              "    border: none;\n",
              "    border-radius: 50%;\n",
              "    cursor: pointer;\n",
              "    display: none;\n",
              "    fill: #1967D2;\n",
              "    height: 32px;\n",
              "    padding: 0 0 0 0;\n",
              "    width: 32px;\n",
              "  }\n",
              "\n",
              "  .colab-df-quickchart:hover {\n",
              "    background-color: #E2EBFA;\n",
              "    box-shadow: 0px 1px 2px rgba(60, 64, 67, 0.3), 0px 1px 3px 1px rgba(60, 64, 67, 0.15);\n",
              "    fill: #174EA6;\n",
              "  }\n",
              "\n",
              "  [theme=dark] .colab-df-quickchart {\n",
              "    background-color: #3B4455;\n",
              "    fill: #D2E3FC;\n",
              "  }\n",
              "\n",
              "  [theme=dark] .colab-df-quickchart:hover {\n",
              "    background-color: #434B5C;\n",
              "    box-shadow: 0px 1px 3px 1px rgba(0, 0, 0, 0.15);\n",
              "    filter: drop-shadow(0px 1px 2px rgba(0, 0, 0, 0.3));\n",
              "    fill: #FFFFFF;\n",
              "  }\n",
              "</style>\n",
              "\n",
              "    <script>\n",
              "      async function quickchart(key) {\n",
              "        const containerElement = document.querySelector('#' + key);\n",
              "        const charts = await google.colab.kernel.invokeFunction(\n",
              "            'suggestCharts', [key], {});\n",
              "      }\n",
              "    </script>\n",
              "\n",
              "      <script>\n",
              "\n",
              "function displayQuickchartButton(domScope) {\n",
              "  let quickchartButtonEl =\n",
              "    domScope.querySelector('#df-58f30503-43fe-4b04-93bb-d1706b2ca1f2 button.colab-df-quickchart');\n",
              "  quickchartButtonEl.style.display =\n",
              "    google.colab.kernel.accessAllowed ? 'block' : 'none';\n",
              "}\n",
              "\n",
              "        displayQuickchartButton(document);\n",
              "      </script>\n",
              "      <style>\n",
              "    .colab-df-container {\n",
              "      display:flex;\n",
              "      flex-wrap:wrap;\n",
              "      gap: 12px;\n",
              "    }\n",
              "\n",
              "    .colab-df-convert {\n",
              "      background-color: #E8F0FE;\n",
              "      border: none;\n",
              "      border-radius: 50%;\n",
              "      cursor: pointer;\n",
              "      display: none;\n",
              "      fill: #1967D2;\n",
              "      height: 32px;\n",
              "      padding: 0 0 0 0;\n",
              "      width: 32px;\n",
              "    }\n",
              "\n",
              "    .colab-df-convert:hover {\n",
              "      background-color: #E2EBFA;\n",
              "      box-shadow: 0px 1px 2px rgba(60, 64, 67, 0.3), 0px 1px 3px 1px rgba(60, 64, 67, 0.15);\n",
              "      fill: #174EA6;\n",
              "    }\n",
              "\n",
              "    [theme=dark] .colab-df-convert {\n",
              "      background-color: #3B4455;\n",
              "      fill: #D2E3FC;\n",
              "    }\n",
              "\n",
              "    [theme=dark] .colab-df-convert:hover {\n",
              "      background-color: #434B5C;\n",
              "      box-shadow: 0px 1px 3px 1px rgba(0, 0, 0, 0.15);\n",
              "      filter: drop-shadow(0px 1px 2px rgba(0, 0, 0, 0.3));\n",
              "      fill: #FFFFFF;\n",
              "    }\n",
              "  </style>\n",
              "\n",
              "      <script>\n",
              "        const buttonEl =\n",
              "          document.querySelector('#df-a1693d70-b77a-4f83-990a-f2ff727a4393 button.colab-df-convert');\n",
              "        buttonEl.style.display =\n",
              "          google.colab.kernel.accessAllowed ? 'block' : 'none';\n",
              "\n",
              "        async function convertToInteractive(key) {\n",
              "          const element = document.querySelector('#df-a1693d70-b77a-4f83-990a-f2ff727a4393');\n",
              "          const dataTable =\n",
              "            await google.colab.kernel.invokeFunction('convertToInteractive',\n",
              "                                                     [key], {});\n",
              "          if (!dataTable) return;\n",
              "\n",
              "          const docLinkHtml = 'Like what you see? Visit the ' +\n",
              "            '<a target=\"_blank\" href=https://colab.research.google.com/notebooks/data_table.ipynb>data table notebook</a>'\n",
              "            + ' to learn more about interactive tables.';\n",
              "          element.innerHTML = '';\n",
              "          dataTable['output_type'] = 'display_data';\n",
              "          await google.colab.output.renderOutput(dataTable, element);\n",
              "          const docLink = document.createElement('div');\n",
              "          docLink.innerHTML = docLinkHtml;\n",
              "          element.appendChild(docLink);\n",
              "        }\n",
              "      </script>\n",
              "    </div>\n",
              "  </div>\n"
            ]
          },
          "metadata": {},
          "execution_count": 4
        }
      ]
    },
    {
      "cell_type": "code",
      "source": [
        "name_df = name_df[['nconst','primaryName','knownForTitles']]\n",
        "\n",
        "#Melakukan pengecekan variasi\n",
        "print(name_df['knownForTitles'].apply(lambda x: len(x.split(','))).unique())\n",
        "\n",
        "#Mengubah knownForTitles menjadi list of list\n",
        "name_df['knownForTitles'] = name_df['knownForTitles'].apply(lambda x: x.split(','))\n",
        "\n",
        "#Mencetak 5 baris teratas\n",
        "print(name_df.head())"
      ],
      "metadata": {
        "colab": {
          "base_uri": "https://localhost:8080/"
        },
        "id": "0sGeaNI6qMKA",
        "outputId": "b39b95c8-a088-481e-d88b-ce6da481ec31"
      },
      "execution_count": null,
      "outputs": [
        {
          "output_type": "stream",
          "name": "stdout",
          "text": [
            "[4 1 2 3]\n",
            "       nconst          primaryName  \\\n",
            "0   nm1774132    Nathan McLaughlin   \n",
            "1  nm10683464        Bridge Andrew   \n",
            "2   nm1021485    Brandon Fransvaag   \n",
            "3   nm6940929   Erwin van der Lely   \n",
            "4   nm5764974  Svetlana Shypitsyna   \n",
            "\n",
            "                                 knownForTitles  \n",
            "0  [tt0417686, tt1713976, tt1891860, tt0454839]  \n",
            "1                                   [tt7718088]  \n",
            "2                                   [tt0168790]  \n",
            "3                                   [tt4232168]  \n",
            "4                                   [tt3014168]  \n"
          ]
        },
        {
          "output_type": "stream",
          "name": "stderr",
          "text": [
            "<ipython-input-5-7b5fd2ec6f6e>:7: SettingWithCopyWarning: \n",
            "A value is trying to be set on a copy of a slice from a DataFrame.\n",
            "Try using .loc[row_indexer,col_indexer] = value instead\n",
            "\n",
            "See the caveats in the documentation: https://pandas.pydata.org/pandas-docs/stable/user_guide/indexing.html#returning-a-view-versus-a-copy\n",
            "  name_df['knownForTitles'] = name_df['knownForTitles'].apply(lambda x: x.split(','))\n"
          ]
        }
      ]
    },
    {
      "cell_type": "code",
      "source": [
        "#menyiapkan bucket untuk dataframe\n",
        "df_uni = []\n",
        "\n",
        "for x in ['knownForTitles']:\n",
        "    #mengulang index dari tiap baris sampai tiap elemen dari knownForTitles\n",
        "    idx = name_df.index.repeat(name_df['knownForTitles'].str.len())\n",
        "\n",
        "   #memecah values dari list di setiap baris dan menggabungkan nya dengan rows lain menjadi dataframe\n",
        "    df1 = pd.DataFrame({\n",
        "        x: np.concatenate(name_df[x].values)\n",
        "    })\n",
        "\n",
        "    #mengganti index dataframe tersebut dengan idx yang sudah kita define di awal\n",
        "    df1.index = idx\n",
        "    #untuk setiap dataframe yang terbentuk, kita append ke dataframe bucket\n",
        "    df_uni.append(df1)\n",
        "\n",
        "#menggabungkan semua dataframe menjadi satu\n",
        "df_concat = pd.concat(df_uni, axis=1)\n",
        "\n",
        "#left join dengan value dari dataframe yang awal\n",
        "unnested_df = df_concat.join(name_df.drop(['knownForTitles'], 1), how=\"left\")\n",
        "\n",
        "#select kolom sesuai dengan dataframe awal\n",
        "unnested_df = unnested_df[name_df.columns.tolist()]\n",
        "print(unnested_df)"
      ],
      "metadata": {
        "colab": {
          "base_uri": "https://localhost:8080/"
        },
        "id": "1XuRrKoPxY9D",
        "outputId": "d9e747f8-043c-4107-c9b8-101487493c81"
      },
      "execution_count": null,
      "outputs": [
        {
          "output_type": "stream",
          "name": "stdout",
          "text": [
            "         nconst        primaryName knownForTitles\n",
            "0     nm1774132  Nathan McLaughlin      tt0417686\n",
            "0     nm1774132  Nathan McLaughlin      tt1713976\n",
            "0     nm1774132  Nathan McLaughlin      tt1891860\n",
            "0     nm1774132  Nathan McLaughlin      tt0454839\n",
            "1    nm10683464      Bridge Andrew      tt7718088\n",
            "..          ...                ...            ...\n",
            "998   nm5245804      Eliza Jenkins      tt1464058\n",
            "999   nm0948460         Greg Yolen      tt0436869\n",
            "999   nm0948460         Greg Yolen      tt0476663\n",
            "999   nm0948460         Greg Yolen      tt0109723\n",
            "999   nm0948460         Greg Yolen      tt0364484\n",
            "\n",
            "[1918 rows x 3 columns]\n"
          ]
        },
        {
          "output_type": "stream",
          "name": "stderr",
          "text": [
            "<ipython-input-6-f6fd27a5c724>:22: FutureWarning: In a future version of pandas all arguments of DataFrame.drop except for the argument 'labels' will be keyword-only.\n",
            "  unnested_df = df_concat.join(name_df.drop(['knownForTitles'], 1), how=\"left\")\n"
          ]
        }
      ]
    },
    {
      "cell_type": "code",
      "source": [
        "#menyiapkan bucket untuk dataframe\n",
        "df_uni = []\n",
        "\n",
        "for col in ['primaryName']:\n",
        "    #agregasi kolom PrimaryName sesuai group_col yang sudah di define di atas\n",
        "    dfi = unnested_df.groupby(['knownForTitles'])[col].apply(list)\n",
        "    #Lakukan append\n",
        "    df_uni.append(dfi)\n",
        "df_grouped = pd.concat(df_uni, axis=1).reset_index()\n",
        "df_grouped.columns = ['knownForTitles','cast_name']\n",
        "print(df_grouped)"
      ],
      "metadata": {
        "colab": {
          "base_uri": "https://localhost:8080/"
        },
        "id": "xfwpJGl_27F_",
        "outputId": "358c6d33-605c-4a2d-da2a-ee5d6352b803"
      },
      "execution_count": null,
      "outputs": [
        {
          "output_type": "stream",
          "name": "stdout",
          "text": [
            "     knownForTitles           cast_name\n",
            "0         tt0008125    [Charles Harley]\n",
            "1         tt0009706    [Charles Harley]\n",
            "2         tt0010304  [Natalie Talmadge]\n",
            "3         tt0011414  [Natalie Talmadge]\n",
            "4         tt0011890  [Natalie Talmadge]\n",
            "...             ...                 ...\n",
            "1893      tt9610496  [Stefano Baffetti]\n",
            "1894      tt9714030        [Kevin Kain]\n",
            "1895      tt9741820   [Caroline Plyler]\n",
            "1896      tt9759814     [Ethan Francis]\n",
            "1897      tt9856236     [Nuala Maguire]\n",
            "\n",
            "[1898 rows x 2 columns]\n"
          ]
        }
      ]
    },
    {
      "cell_type": "code",
      "source": [
        "#join antara movie table dan cast table\n",
        "base_df = pd.merge(df_grouped, movie_rating_df, left_on='knownForTitles', right_on='tconst', how='left')\n",
        "\n",
        "#join antara base_df dengan director_writer table\n",
        "base_df = pd.merge(base_df, director_writers, left_on='tconst', right_on='tconst', how='inner')\n",
        "print(base_df.head())"
      ],
      "metadata": {
        "colab": {
          "base_uri": "https://localhost:8080/"
        },
        "id": "CRRvyYcP3nhE",
        "outputId": "887acc9b-bffa-44f9-940b-e8d983d9b682"
      },
      "execution_count": null,
      "outputs": [
        {
          "output_type": "stream",
          "name": "stdout",
          "text": [
            "  knownForTitles           cast_name     tconst titleType  \\\n",
            "0      tt0011414  [Natalie Talmadge]  tt0011414     movie   \n",
            "1      tt0011890  [Natalie Talmadge]  tt0011890     movie   \n",
            "2      tt0014341  [Natalie Talmadge]  tt0014341     movie   \n",
            "3      tt0018054     [Reeka Roberts]  tt0018054     movie   \n",
            "4      tt0024151     [James Hackett]  tt0024151     movie   \n",
            "\n",
            "             primaryTitle           originalTitle  isAdult  startYear  \\\n",
            "0         The Love Expert         The Love Expert      0.0     1920.0   \n",
            "1               Yes or No               Yes or No      0.0     1920.0   \n",
            "2         Our Hospitality         Our Hospitality      0.0     1923.0   \n",
            "3       The King of Kings       The King of Kings      0.0     1927.0   \n",
            "4  I Cover the Waterfront  I Cover the Waterfront      0.0     1933.0   \n",
            "\n",
            "   endYear  runtimeMinutes                   genres  averageRating  numVotes  \\\n",
            "0      NaN            60.0           Comedy,Romance            4.9     136.0   \n",
            "1      NaN            72.0                      NaN            6.3       7.0   \n",
            "2      NaN            65.0  Comedy,Romance,Thriller            7.8    9621.0   \n",
            "3      NaN           155.0  Biography,Drama,History            7.3    1826.0   \n",
            "4      NaN            80.0            Drama,Romance            6.3     455.0   \n",
            "\n",
            "                    director_name  \\\n",
            "0                  David Kirkland   \n",
            "1               Roy William Neill   \n",
            "2  Buster Keaton,John G. Blystone   \n",
            "3                Cecil B. DeMille   \n",
            "4                     James Cruze   \n",
            "\n",
            "                                       writer_name  \n",
            "0                          John Emerson,Anita Loos  \n",
            "1     Arthur F. Goodrich,Burns Mantle,Mary Murillo  \n",
            "2  Jean C. Havez,Clyde Bruckman,Joseph A. Mitchell  \n",
            "3                                Jeanie Macpherson  \n",
            "4                 Max Miller,Wells Root,Jack Jevne  \n"
          ]
        }
      ]
    },
    {
      "cell_type": "code",
      "source": [
        "#Melakukan drop terhadap kolom knownForTitles\n",
        "base_drop = base_df.drop(['knownForTitles'], axis=1)\n",
        "print(base_drop.info())\n",
        "\n",
        "#Mengganti nilai NULL pada kolom genres dengan 'Unknown'\n",
        "base_drop['genres'] = base_drop['genres'].fillna('Unknown')\n",
        "\n",
        "#Melakukan perhitungan jumlah nilai NULL pada tiap kolom\n",
        "print(base_drop.isnull().sum())\n",
        "\n",
        "#Mengganti nilai NULL pada kolom dorector_name dan writer_name dengan 'Unknown'\n",
        "base_drop[['director_name','writer_name']] = base_drop[['director_name','writer_name']].fillna('unknown')\n",
        "\n",
        "#karena value kolom genres terdapat multiple values, jadi kita akan bungkus menjadi list of list\n",
        "base_drop['genres'] = base_drop['genres'].apply(lambda x: x.split(','))"
      ],
      "metadata": {
        "colab": {
          "base_uri": "https://localhost:8080/"
        },
        "id": "65a3MAOW5lSc",
        "outputId": "15fdfced-2e24-4304-dc3f-8aa51a7943ec"
      },
      "execution_count": null,
      "outputs": [
        {
          "output_type": "stream",
          "name": "stdout",
          "text": [
            "<class 'pandas.core.frame.DataFrame'>\n",
            "Int64Index: 986 entries, 0 to 985\n",
            "Data columns (total 14 columns):\n",
            " #   Column          Non-Null Count  Dtype  \n",
            "---  ------          --------------  -----  \n",
            " 0   cast_name       986 non-null    object \n",
            " 1   tconst          986 non-null    object \n",
            " 2   titleType       986 non-null    object \n",
            " 3   primaryTitle    986 non-null    object \n",
            " 4   originalTitle   986 non-null    object \n",
            " 5   isAdult         986 non-null    float64\n",
            " 6   startYear       986 non-null    float64\n",
            " 7   endYear         100 non-null    float64\n",
            " 8   runtimeMinutes  986 non-null    float64\n",
            " 9   genres          710 non-null    object \n",
            " 10  averageRating   986 non-null    float64\n",
            " 11  numVotes        986 non-null    float64\n",
            " 12  director_name   986 non-null    object \n",
            " 13  writer_name     986 non-null    object \n",
            "dtypes: float64(6), object(8)\n",
            "memory usage: 115.5+ KB\n",
            "None\n",
            "cast_name           0\n",
            "tconst              0\n",
            "titleType           0\n",
            "primaryTitle        0\n",
            "originalTitle       0\n",
            "isAdult             0\n",
            "startYear           0\n",
            "endYear           886\n",
            "runtimeMinutes      0\n",
            "genres              0\n",
            "averageRating       0\n",
            "numVotes            0\n",
            "director_name       0\n",
            "writer_name         0\n",
            "dtype: int64\n"
          ]
        }
      ]
    },
    {
      "cell_type": "code",
      "source": [
        "#Drop kolom tconst, isAdult, endYear, originalTitle\n",
        "base_drop2 = base_drop.drop(['tconst','isAdult','endYear','originalTitle'], axis=1)\n",
        "\n",
        "base_drop2 = base_drop2[['primaryTitle','titleType','startYear','runtimeMinutes','genres','averageRating','numVotes','cast_name','director_name','writer_name']]\n",
        "\n",
        "# Gunakan petunjuk!\n",
        "base_drop2.columns = ['title','type','start','duration','genres','rating','votes','cast_name','director_name','writer_name']\n",
        "print(base_drop2.head())"
      ],
      "metadata": {
        "colab": {
          "base_uri": "https://localhost:8080/"
        },
        "id": "2Y-BLRia6YoY",
        "outputId": "d8f1bde9-55db-43ee-9f8f-8cd1c0c51797"
      },
      "execution_count": null,
      "outputs": [
        {
          "output_type": "stream",
          "name": "stdout",
          "text": [
            "                    title   type   start  duration  \\\n",
            "0         The Love Expert  movie  1920.0      60.0   \n",
            "1               Yes or No  movie  1920.0      72.0   \n",
            "2         Our Hospitality  movie  1923.0      65.0   \n",
            "3       The King of Kings  movie  1927.0     155.0   \n",
            "4  I Cover the Waterfront  movie  1933.0      80.0   \n",
            "\n",
            "                        genres  rating   votes           cast_name  \\\n",
            "0            [Comedy, Romance]     4.9   136.0  [Natalie Talmadge]   \n",
            "1                    [Unknown]     6.3     7.0  [Natalie Talmadge]   \n",
            "2  [Comedy, Romance, Thriller]     7.8  9621.0  [Natalie Talmadge]   \n",
            "3  [Biography, Drama, History]     7.3  1826.0     [Reeka Roberts]   \n",
            "4             [Drama, Romance]     6.3   455.0     [James Hackett]   \n",
            "\n",
            "                    director_name  \\\n",
            "0                  David Kirkland   \n",
            "1               Roy William Neill   \n",
            "2  Buster Keaton,John G. Blystone   \n",
            "3                Cecil B. DeMille   \n",
            "4                     James Cruze   \n",
            "\n",
            "                                       writer_name  \n",
            "0                          John Emerson,Anita Loos  \n",
            "1     Arthur F. Goodrich,Burns Mantle,Mary Murillo  \n",
            "2  Jean C. Havez,Clyde Bruckman,Joseph A. Mitchell  \n",
            "3                                Jeanie Macpherson  \n",
            "4                 Max Miller,Wells Root,Jack Jevne  \n"
          ]
        }
      ]
    },
    {
      "cell_type": "code",
      "source": [
        "#Klasifikasi berdasar title, cast_name, genres, director_name, dan writer_name\n",
        "feature_df = base_drop2[['title','cast_name','genres','director_name','writer_name']]\n",
        "\n",
        "#Tampilkan 5 baris teratas\n",
        "print(feature_df.head())"
      ],
      "metadata": {
        "colab": {
          "base_uri": "https://localhost:8080/"
        },
        "id": "jicsSZLV6qsu",
        "outputId": "beb6cc79-5d3c-4b73-f584-5ac90da7172e"
      },
      "execution_count": null,
      "outputs": [
        {
          "output_type": "stream",
          "name": "stdout",
          "text": [
            "                    title           cast_name                       genres  \\\n",
            "0         The Love Expert  [Natalie Talmadge]            [Comedy, Romance]   \n",
            "1               Yes or No  [Natalie Talmadge]                    [Unknown]   \n",
            "2         Our Hospitality  [Natalie Talmadge]  [Comedy, Romance, Thriller]   \n",
            "3       The King of Kings     [Reeka Roberts]  [Biography, Drama, History]   \n",
            "4  I Cover the Waterfront     [James Hackett]             [Drama, Romance]   \n",
            "\n",
            "                    director_name  \\\n",
            "0                  David Kirkland   \n",
            "1               Roy William Neill   \n",
            "2  Buster Keaton,John G. Blystone   \n",
            "3                Cecil B. DeMille   \n",
            "4                     James Cruze   \n",
            "\n",
            "                                       writer_name  \n",
            "0                          John Emerson,Anita Loos  \n",
            "1     Arthur F. Goodrich,Burns Mantle,Mary Murillo  \n",
            "2  Jean C. Havez,Clyde Bruckman,Joseph A. Mitchell  \n",
            "3                                Jeanie Macpherson  \n",
            "4                 Max Miller,Wells Root,Jack Jevne  \n"
          ]
        }
      ]
    },
    {
      "cell_type": "code",
      "source": [
        "def sanitize(x):\n",
        "    try:\n",
        "        #kalau cell berisi list\n",
        "        if isinstance(x, list):\n",
        "            return [i.replace(' ','').lower() for i in x]\n",
        "        #kalau cell berisi string\n",
        "        else:\n",
        "            return [x.replace(' ','').lower()]\n",
        "    except:\n",
        "        print(x)\n",
        "\n",
        "#Kolom : cast_name, genres, writer_name, director_name\n",
        "feature_cols = ['cast_name','genres','writer_name','director_name']\n",
        "\n",
        "#Apply function sanitize\n",
        "for col in feature_cols:\n",
        "    feature_df[col] = feature_df[col].apply(sanitize)"
      ],
      "metadata": {
        "colab": {
          "base_uri": "https://localhost:8080/"
        },
        "id": "STq4CEMV7wA1",
        "outputId": "d33369c1-5fe2-4c92-e0ee-9a77ec0edf1d"
      },
      "execution_count": null,
      "outputs": [
        {
          "output_type": "stream",
          "name": "stderr",
          "text": [
            "<ipython-input-12-f941f285a2a5>:17: SettingWithCopyWarning: \n",
            "A value is trying to be set on a copy of a slice from a DataFrame.\n",
            "Try using .loc[row_indexer,col_indexer] = value instead\n",
            "\n",
            "See the caveats in the documentation: https://pandas.pydata.org/pandas-docs/stable/user_guide/indexing.html#returning-a-view-versus-a-copy\n",
            "  feature_df[col] = feature_df[col].apply(sanitize)\n"
          ]
        }
      ]
    },
    {
      "cell_type": "code",
      "source": [
        "#kolom yang digunakan : cast_name, genres, director_name, writer_name\n",
        "def soup_feature(x):\n",
        "    return ' '.join(x['cast_name']) + ' ' + ' '.join(x['genres']) + ' ' + ' '.join(x['director_name']) + ' ' + ' '.join(x['writer_name'])\n",
        "\n",
        "#membuat soup menjadi 1 kolom\n",
        "feature_df['soup'] = feature_df.apply(soup_feature, axis=1)"
      ],
      "metadata": {
        "colab": {
          "base_uri": "https://localhost:8080/"
        },
        "id": "-RCY9Ire-ELT",
        "outputId": "08b34a1b-f652-47ab-f440-aa0f0788aa31"
      },
      "execution_count": null,
      "outputs": [
        {
          "output_type": "stream",
          "name": "stderr",
          "text": [
            "<ipython-input-13-7a83a3d41899>:6: SettingWithCopyWarning: \n",
            "A value is trying to be set on a copy of a slice from a DataFrame.\n",
            "Try using .loc[row_indexer,col_indexer] = value instead\n",
            "\n",
            "See the caveats in the documentation: https://pandas.pydata.org/pandas-docs/stable/user_guide/indexing.html#returning-a-view-versus-a-copy\n",
            "  feature_df['soup'] = feature_df.apply(soup_feature, axis=1)\n"
          ]
        }
      ]
    },
    {
      "cell_type": "code",
      "source": [
        "#import CountVectorizer\n",
        "from sklearn.feature_extraction.text import CountVectorizer\n",
        "\n",
        "#definisikan CountVectorizer dan mengubah soup tadi menjadi bentuk vector\n",
        "count = CountVectorizer(stop_words='english')\n",
        "count_matrix = count.fit_transform(feature_df['soup'])\n",
        "\n",
        "print(count)\n",
        "print(count_matrix.shape)"
      ],
      "metadata": {
        "colab": {
          "base_uri": "https://localhost:8080/"
        },
        "id": "w99xX0HN_dxf",
        "outputId": "606dabfc-9cd3-4117-9d41-9ec859258fa8"
      },
      "execution_count": null,
      "outputs": [
        {
          "output_type": "stream",
          "name": "stdout",
          "text": [
            "CountVectorizer(stop_words='english')\n",
            "(986, 9985)\n"
          ]
        }
      ]
    },
    {
      "cell_type": "code",
      "source": [
        "#Import cosine_similarity\n",
        "from sklearn.metrics.pairwise import cosine_similarity\n",
        "\n",
        "#Gunakan cosine_similarity antara count_matrix\n",
        "cosine_sim = cosine_similarity(count_matrix, count_matrix)\n",
        "\n",
        "#print hasilnya\n",
        "print(cosine_sim)"
      ],
      "metadata": {
        "id": "CAH8x-15DTc3",
        "outputId": "b0ec91ee-b8c8-4005-e19f-67ef5590fccb",
        "colab": {
          "base_uri": "https://localhost:8080/"
        }
      },
      "execution_count": null,
      "outputs": [
        {
          "output_type": "stream",
          "name": "stdout",
          "text": [
            "[[1.         0.15430335 0.35355339 ... 0.         0.         0.13608276]\n",
            " [0.15430335 1.         0.10910895 ... 0.         0.         0.        ]\n",
            " [0.35355339 0.10910895 1.         ... 0.         0.08703883 0.09622504]\n",
            " ...\n",
            " [0.         0.         0.         ... 1.         0.         0.        ]\n",
            " [0.         0.         0.08703883 ... 0.         1.         0.10050378]\n",
            " [0.13608276 0.         0.09622504 ... 0.         0.10050378 1.        ]]\n"
          ]
        }
      ]
    },
    {
      "cell_type": "code",
      "source": [
        "from sklearn.metrics.pairwise import cosine_similarity\n",
        "cosine_sim = cosine_similarity(count_matrix, count_matrix)\n",
        "\n",
        "indices = pd.Series(feature_df.index, index=feature_df['title']).drop_duplicates()\n",
        "print(indices[indices])"
      ],
      "metadata": {
        "colab": {
          "base_uri": "https://localhost:8080/"
        },
        "id": "PKyWjBbro2xH",
        "outputId": "94a83a7e-296a-439d-9078-61599df1d994"
      },
      "execution_count": null,
      "outputs": [
        {
          "output_type": "stream",
          "name": "stdout",
          "text": [
            "title\n",
            "The Love Expert             0\n",
            "Yes or No                   1\n",
            "Our Hospitality             2\n",
            "The King of Kings           3\n",
            "I Cover the Waterfront      4\n",
            "                         ... \n",
            "Die verlorene Tochter     981\n",
            "Bozkir                    982\n",
            "Blue Story                983\n",
            "Typewriter                984\n",
            "Koko-di Koko-da           985\n",
            "Length: 986, dtype: int64\n"
          ]
        }
      ]
    },
    {
      "cell_type": "code",
      "source": [
        "idx = indices['The Lion King']\n",
        "sim_scores = list(enumerate(cosine_sim[idx]))\n",
        "print(sim_scores[2:12])"
      ],
      "metadata": {
        "colab": {
          "base_uri": "https://localhost:8080/"
        },
        "id": "Xkod8_GRv0Xc",
        "outputId": "e1acc672-39a3-4326-e458-79b71ba0d65c"
      },
      "execution_count": null,
      "outputs": [
        {
          "output_type": "stream",
          "name": "stdout",
          "text": [
            "[(2, 0.0), (3, 0.1259881576697424), (4, 0.1259881576697424), (5, 0.1111111111111111), (6, 0.1111111111111111), (7, 0.0), (8, 0.1259881576697424), (9, 0.2519763153394848), (10, 0.1259881576697424), (11, 0.0)]\n"
          ]
        }
      ]
    },
    {
      "cell_type": "code",
      "source": [
        "def content_recommender(title):\n",
        "    #mendapatkan index dari judul film (title) yang disebutkan\n",
        "    idx = indices[title]\n",
        "\n",
        "    #menjadikan list dari array similarity cosine sim\n",
        "    #hint: cosine_sim[idx]\n",
        "    sim_scores = list(enumerate(cosine_sim[idx]))\n",
        "\n",
        "    #mengurutkan film dari similarity tertinggi ke terendah\n",
        "    sim_scores = sorted(sim_scores,key=lambda x: x[1],reverse=True)\n",
        "\n",
        "    #untuk mendapatkan list judul dari item kedua sampe ke 11\n",
        "    sim_scores = sim_scores[1:11]\n",
        "\n",
        "    #mendapatkan index dari judul-judul yang muncul di sim_scores\n",
        "    movie_indices = [i[0] for i in sim_scores]\n",
        "\n",
        "    #dengan menggunakan iloc, kita bisa panggil balik berdasarkan index dari movie_indices\n",
        "    return base_df.iloc[movie_indices]\n",
        "\n",
        "#aplikasikan function di atas\n",
        "print(content_recommender('The Lion King'))"
      ],
      "metadata": {
        "colab": {
          "base_uri": "https://localhost:8080/"
        },
        "id": "T-_V_5C-oXDF",
        "outputId": "79adeaea-a9b2-4417-fe2d-04d6036a1fb7"
      },
      "execution_count": null,
      "outputs": [
        {
          "output_type": "stream",
          "name": "stdout",
          "text": [
            "    knownForTitles                   cast_name      tconst titleType  \\\n",
            "805      tt3040964  [Cristina Carrión Márquez]   tt3040964     movie   \n",
            "375      tt0286336          [Francisco Bretas]   tt0286336  tvSeries   \n",
            "942      tt7222086          [Hiroki Matsukawa]   tt7222086  tvSeries   \n",
            "73       tt0075147             [Joaquín Parra]   tt0075147     movie   \n",
            "230      tt0119051            [Chris Kosloski]   tt0119051     movie   \n",
            "536     tt10068158          [Hiroki Matsukawa]  tt10068158     movie   \n",
            "9        tt0028657            [Bernard Loftus]   tt0028657     movie   \n",
            "191      tt0107875               [Simon Mayal]   tt0107875     movie   \n",
            "763      tt2356464               [Sina Müller]   tt2356464     movie   \n",
            "925      tt6270328                   [Jo Boag]   tt6270328  tvSeries   \n",
            "\n",
            "                                        primaryTitle  \\\n",
            "805                                  The Jungle Book   \n",
            "375                     The Animals of Farthing Wood   \n",
            "942                                    Made in Abyss   \n",
            "73                                  Robin and Marian   \n",
            "230                                         The Edge   \n",
            "536                    Made in Abyss: Journey's Dawn   \n",
            "9                              Boss of Lonely Valley   \n",
            "191                      The Princess and the Goblin   \n",
            "763                                          Ostwind   \n",
            "925  The Skinner Boys: Guardians of the Lost Secrets   \n",
            "\n",
            "                                       originalTitle  isAdult  startYear  \\\n",
            "805                                  The Jungle Book      0.0     2016.0   \n",
            "375                     The Animals of Farthing Wood      0.0     1993.0   \n",
            "942                                    Made in Abyss      0.0     2017.0   \n",
            "73                                  Robin and Marian      0.0     1976.0   \n",
            "230                                         The Edge      0.0     1997.0   \n",
            "536                Made in Abyss: Tabidachi no Yoake      0.0     2019.0   \n",
            "9                              Boss of Lonely Valley      0.0     1937.0   \n",
            "191                      The Princess and the Goblin      0.0     1991.0   \n",
            "763                                          Ostwind      0.0     2013.0   \n",
            "925  The Skinner Boys: Guardians of the Lost Secrets      0.0     2014.0   \n",
            "\n",
            "     endYear  runtimeMinutes                       genres  averageRating  \\\n",
            "805      NaN           106.0       Adventure,Drama,Family            7.4   \n",
            "375   1995.0            25.0    Adventure,Animation,Drama            8.3   \n",
            "942      NaN           325.0    Adventure,Animation,Drama            8.4   \n",
            "73       NaN           106.0      Adventure,Drama,Romance            6.5   \n",
            "230      NaN           117.0       Action,Adventure,Drama            6.9   \n",
            "536      NaN           139.0  Adventure,Animation,Fantasy            7.4   \n",
            "9        NaN            60.0       Action,Adventure,Drama            6.2   \n",
            "191      NaN            82.0   Adventure,Animation,Comedy            6.8   \n",
            "763      NaN           101.0       Adventure,Drama,Family            6.8   \n",
            "925      NaN            23.0    Adventure,Animation,Drama            7.8   \n",
            "\n",
            "     numVotes                                      director_name  \\\n",
            "805  250994.0                                        Jon Favreau   \n",
            "375    3057.0                Elphin Lloyd-Jones,Philippe Leclerc   \n",
            "942    4577.0  Masayuki Kojima,Hitoshi Haga,Shinya Iino,Toshi...   \n",
            "73    10830.0                                     Richard Lester   \n",
            "230   65673.0                                       Lee Tamahori   \n",
            "536      81.0                                    Masayuki Kojima   \n",
            "9        41.0                                         Ray Taylor   \n",
            "191    2350.0                                       József Gémes   \n",
            "763    1350.0                                  Katja von Garnier   \n",
            "925      12.0            Pablo De La Torre,Eugene Linkov,Jo Boag   \n",
            "\n",
            "                                           writer_name  \n",
            "805                       Justin Marks,Rudyard Kipling  \n",
            "375  Valerie Georgeson,Colin Dann,Jenny McDade,Stev...  \n",
            "942    Akihito Tsukushi,Keigo Koyanagi,Hideyuki Kurata  \n",
            "73                                       James Goldman  \n",
            "230                                        David Mamet  \n",
            "536                                   Akihito Tsukushi  \n",
            "9                         Frances Guihan,Forrest Brown  \n",
            "191                       Robin Lyons,George MacDonald  \n",
            "763            Kristina Magdalena Henn,Lea Schmidbauer  \n",
            "925  David Witt,John Derevlany,David Evans,Peter Sc...  \n"
          ]
        }
      ]
    }
  ]
}